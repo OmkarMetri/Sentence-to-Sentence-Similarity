{
 "cells": [
  {
   "cell_type": "code",
   "execution_count": 5,
   "metadata": {},
   "outputs": [],
   "source": [
    "import pandas as pd\n",
    "import string\n",
    "import numpy as np\n",
    "from nltk.corpus import stopwords\n",
    "from nltk import sent_tokenize, word_tokenize, pos_tag\n",
    "from nltk.stem.porter import PorterStemmer\n",
    "from nltk.stem import WordNetLemmatizer\n",
    "from nltk.probability import FreqDist\n",
    "\n",
    "import gensim\n",
    "from gensim.parsing.preprocessing import STOPWORDS"
   ]
  },
  {
   "cell_type": "code",
   "execution_count": 6,
   "metadata": {},
   "outputs": [
    {
     "name": "stdout",
     "output_type": "stream",
     "text": [
      "(200000, 3)\n"
     ]
    }
   ],
   "source": [
    "train = pd.read_csv(\"train.csv\")\n",
    "test = pd.read_csv(\"test.csv\")\n",
    "print(train.shape)\n",
    "print(test.shape)"
   ]
  },
  {
   "cell_type": "code",
   "execution_count": 7,
   "metadata": {},
   "outputs": [],
   "source": [
    "def stop_words():\n",
    "    return set(stopwords.words('english') + list(STOPWORDS) + list(string.punctuation))\n",
    "\n",
    "def stem_lemmat(token):\n",
    "    return PorterStemmer().stem(WordNetLemmatizer().lemmatize(token))\n",
    "\n",
    "def tokenize_word(questions):\n",
    "    words = []\n",
    "    for eachQues in questions:\n",
    "        words.append(word_tokenize(eachQues))\n",
    "    return words\n",
    "\n",
    "def process(question):\n",
    "    stopWords = stop_words()\n",
    "    processedQues = []\n",
    "    #processedWord = []\n",
    "    for eachQues in question:\n",
    "        no_stpwrds = [word.lower() for word in eachQues if word.lower() not in stopWords]\n",
    "        #stem_lemmatise = [stem_lemmat(word) for word in no_stpwrds]\n",
    "        #processedWord.append(stem_lemmatise)\n",
    "        #processedQues.append(\" \".join(stem_lemmatise))\n",
    "        processedQues.append(\" \".join(no_stpwrds))\n",
    "    return processedQues\n",
    "\n",
    "\n",
    "def processed_dataset(dataframe, flag=1):\n",
    "    #remove the nan values\n",
    "    dataframe['question1'].replace('', np.nan, inplace=True)\n",
    "    dataframe['question2'].replace('', np.nan, inplace=True)\n",
    "    dataframe.dropna(subset=['question1', 'question2'], inplace=True)\n",
    "    \n",
    "    #word tokenize\n",
    "    word1 = tokenize_word(dataframe[\"question1\"])\n",
    "    word2 = tokenize_word(dataframe[\"question2\"])\n",
    "    \n",
    "    #processed questions and important tokens\n",
    "    processed_question1 = process(word1)\n",
    "    processed_question2 = process(word2)\n",
    "    \n",
    "    #creating dataframe\n",
    "    if flag == 0:\n",
    "        dataset = pd.DataFrame({'id':dataframe[\"id\"],'qid1':dataframe['qid1'], 'qid2':dataframe['qid2'],\\\n",
    "                                'question1':processed_question1, 'question2':processed_question2, \\\n",
    "                                'is_duplicate': dataframe[\"is_duplicate\"]},\\\n",
    "                           columns=['id','qid1','qid2','question1','question2','is_duplicate'])\n",
    "        return dataset\n",
    "    else:\n",
    "        dataset = pd.DataFrame({'test_id': dataframe[\"test_id\"],'question1':processed_question1,\\\n",
    "                                'question2':processed_question2},\\\n",
    "                           columns=['test_id','question1','question2'])\n",
    "        return dataset\n",
    "        "
   ]
  },
  {
   "cell_type": "code",
   "execution_count": 4,
   "metadata": {},
   "outputs": [],
   "source": [
    "train_df = processed_dataset(train, 0)"
   ]
  },
  {
   "cell_type": "code",
   "execution_count": 8,
   "metadata": {},
   "outputs": [],
   "source": [
    "test_df = processed_dataset(test)"
   ]
  },
  {
   "cell_type": "code",
   "execution_count": 9,
   "metadata": {},
   "outputs": [],
   "source": [
    "train_df.to_csv(\"ptrain.csv\", index = False)"
   ]
  },
  {
   "cell_type": "code",
   "execution_count": 10,
   "metadata": {},
   "outputs": [],
   "source": [
    "test_df.to_csv(\"ptest.csv\", index = False)"
   ]
  },
  {
   "cell_type": "code",
   "execution_count": null,
   "metadata": {},
   "outputs": [],
   "source": []
  },
  {
   "cell_type": "code",
   "execution_count": null,
   "metadata": {},
   "outputs": [],
   "source": []
  }
 ],
 "metadata": {
  "kernelspec": {
   "display_name": "Python 3",
   "language": "python",
   "name": "python3"
  },
  "language_info": {
   "codemirror_mode": {
    "name": "ipython",
    "version": 3
   },
   "file_extension": ".py",
   "mimetype": "text/x-python",
   "name": "python",
   "nbconvert_exporter": "python",
   "pygments_lexer": "ipython3",
   "version": "3.6.7"
  }
 },
 "nbformat": 4,
 "nbformat_minor": 2
}
